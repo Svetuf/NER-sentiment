{
 "cells": [
  {
   "cell_type": "markdown",
   "id": "sunset-massage",
   "metadata": {},
   "source": [
    "Изначально я думал реализовать такой алгоритм: хранить слова в префиксном дереве, а разбирая выражение, просто идти по нему. Однако у меня возникла некоторая проблема с префиксными деревьями (в частности с pgtrie), поэтому оставляю такую реализацию которус смог сделать без проблем."
   ]
  },
  {
   "cell_type": "code",
   "execution_count": 1,
   "id": "based-brunei",
   "metadata": {},
   "outputs": [
    {
     "name": "stderr",
     "output_type": "stream",
     "text": [
      "[nltk_data] Downloading package punkt to\n",
      "[nltk_data]     C:\\Users\\iluch\\AppData\\Roaming\\nltk_data...\n",
      "[nltk_data]   Package punkt is already up-to-date!\n"
     ]
    },
    {
     "data": {
      "text/plain": [
       "True"
      ]
     },
     "execution_count": 1,
     "metadata": {},
     "output_type": "execute_result"
    }
   ],
   "source": [
    "import urllib.request\n",
    "import nltk\n",
    "import re\n",
    "\n",
    "nltk.download('punkt')\n"
   ]
  },
  {
   "cell_type": "code",
   "execution_count": 2,
   "id": "married-wallpaper",
   "metadata": {},
   "outputs": [],
   "source": [
    "class MaskSearcher:\n",
    "\n",
    "    def __init__(self,\n",
    "                 link='https://raw.githubusercontent.com/karpathy/char-rnn/master/data/tinyshakespeare/input.txt'):\n",
    "        file = urllib.request.urlopen(\n",
    "            'https://raw.githubusercontent.com/karpathy/char-rnn/master/data/tinyshakespeare/input.txt')\n",
    "        self.wordss = set()\n",
    "        for line in file:\n",
    "            decoded_line = line.decode(\"utf-8\")\n",
    "            for x in nltk.word_tokenize(decoded_line):\n",
    "                self.wordss.add(x)\n",
    "\n",
    "\n",
    "    def search_words_by_mask(self, word: str, sorted=False):\n",
    "        word = word.replace('*', '.*')\n",
    "        word = word.replace('?', '\\S')\n",
    "        print(word)\n",
    "        ans = []\n",
    "        for x in self.wordss:\n",
    "            if re.match(word, x) != None:\n",
    "                ans.append(x)\n",
    "        return ans"
   ]
  },
  {
   "cell_type": "code",
   "execution_count": 3,
   "id": "attempted-youth",
   "metadata": {},
   "outputs": [
    {
     "name": "stdout",
     "output_type": "stream",
     "text": [
      "Al\\S.*\n",
      "['Alcides', 'Allow', 'Already', 'Although', 'All-Souls', 'Allaying', 'Allot', 'Albeit', \"Al'ce\", 'Albion', 'Alla', 'Alack', 'Alas', 'All-hallond', 'Alban', 'Alps', 'All', 'Alive', 'Always', 'Alike', 'Alone', 'Alexander', 'All-Seer', 'Almost', 'Allowing']\n"
     ]
    }
   ],
   "source": [
    "x = MaskSearcher()\n",
    "print(x.search_words_by_mask('Al?*'))"
   ]
  },
  {
   "cell_type": "code",
   "execution_count": null,
   "id": "saving-demographic",
   "metadata": {},
   "outputs": [],
   "source": []
  }
 ],
 "metadata": {
  "kernelspec": {
   "display_name": "Python 3",
   "language": "python",
   "name": "python3"
  },
  "language_info": {
   "codemirror_mode": {
    "name": "ipython",
    "version": 3
   },
   "file_extension": ".py",
   "mimetype": "text/x-python",
   "name": "python",
   "nbconvert_exporter": "python",
   "pygments_lexer": "ipython3",
   "version": "3.8.6"
  }
 },
 "nbformat": 4,
 "nbformat_minor": 5
}

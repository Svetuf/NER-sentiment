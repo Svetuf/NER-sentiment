{
 "cells": [
  {
   "cell_type": "markdown",
   "id": "willing-feeding",
   "metadata": {},
   "source": [
    "Будем хранить строки в списке"
   ]
  },
  {
   "cell_type": "code",
   "execution_count": 18,
   "id": "responsible-english",
   "metadata": {},
   "outputs": [
    {
     "name": "stdout",
     "output_type": "stream",
     "text": [
      "8\n",
      "ABABABABAB\n",
      "MNMNMNMN\n",
      "ASEASEASE\n",
      "PLOPLOPLOPLOPL\n",
      "MMMM\n",
      "NNNNNNNNN\n",
      "AEZAKMI\n",
      "HESOYAM\n"
     ]
    }
   ],
   "source": [
    "contents = []\n",
    "n = int(input())\n",
    "for i in range(n):\n",
    "    contents.append(input())"
   ]
  },
  {
   "cell_type": "code",
   "execution_count": 19,
   "id": "signal-answer",
   "metadata": {},
   "outputs": [
    {
     "name": "stdout",
     "output_type": "stream",
     "text": [
      "['ABABABABAB', 'MNMNMNMN', 'ASEASEASE', 'PLOPLOPLOPLOPL', 'MMMM', 'NNNNNNNNN', 'AEZAKMI', 'HESOYAM']\n"
     ]
    }
   ],
   "source": [
    "print(contents)"
   ]
  },
  {
   "cell_type": "markdown",
   "id": "relevant-strike",
   "metadata": {},
   "source": [
    "Будем по каждой строке строить ее паттерн. Это будет вектор с числами. Все уникальные буквы мы пронумеруем, а те что повторяются будут иметь значение такое же как и первое вхождение буквы. Таким образом мы получим структуру строки которая инвариантна к замене букв(в то смысле что если в строке заменить все вхождения буквы A на букву B то структура ее не изменится)"
   ]
  },
  {
   "cell_type": "code",
   "execution_count": 20,
   "id": "auburn-mozambique",
   "metadata": {},
   "outputs": [],
   "source": [
    "def getpattern(word: str):\n",
    "    word_pattern = []\n",
    "    count = 0\n",
    "    for i in range(len(word)):\n",
    "        if word[:i].__contains__(word[i]):\n",
    "            word_pattern.append(word_pattern[word.find(word[i])])\n",
    "        else:\n",
    "            word_pattern.append(count)\n",
    "            count += 1\n",
    "    return word_pattern"
   ]
  },
  {
   "cell_type": "markdown",
   "id": "juvenile-shirt",
   "metadata": {},
   "source": [
    "Функция сравнения паттернов строк. Будем всегда сравнивать меньший по длинне паттерн с большим. Таким образом если в строке повторяется паттерн несколько(и даже не целое число) раз, мы это засчитаем за матч. "
   ]
  },
  {
   "cell_type": "code",
   "execution_count": 21,
   "id": "fresh-thinking",
   "metadata": {},
   "outputs": [],
   "source": [
    "def check_patterns(f_pattern, s_pattern):\n",
    "    scale = len(s_pattern) // len(f_pattern)\n",
    "    for j in range(scale):\n",
    "        for i in range(len(f_pattern)):\n",
    "            if s_pattern[j * len(f_pattern) + i] == f_pattern[i]:\n",
    "                continue\n",
    "            else:\n",
    "                return False\n",
    "    return True"
   ]
  },
  {
   "cell_type": "markdown",
   "id": "copyrighted-assurance",
   "metadata": {},
   "source": [
    "Теперь будем хранить пару: строка и ее паттерн. И отсортируем по возрастанию, чтобы паттерны меньшей длинны были проверены на всех больших строках."
   ]
  },
  {
   "cell_type": "code",
   "execution_count": 22,
   "id": "documented-arkansas",
   "metadata": {},
   "outputs": [],
   "source": [
    "patterned_words = []\n",
    "\n",
    "for x in contents:\n",
    "    patterned_words.append((x, getpattern(x)))\n",
    "\n",
    "patterned_words.sort(key= lambda elem: len(elem[1]))"
   ]
  },
  {
   "cell_type": "markdown",
   "id": "contained-lover",
   "metadata": {},
   "source": [
    "Идем по всем строкам по возрастанию их длинны. Для текущей строки строим множество всех строк с таким же паттерном. Это будет работать, т.к. если есть паттерн меньшей длинны под который подходила бы какая-либо строка, то его мы уже заметили и удалили на предыдущем шаге. А значит та строка которую мы выбрали - это наименьший сейчас паттерн."
   ]
  },
  {
   "cell_type": "code",
   "execution_count": 23,
   "id": "breathing-bearing",
   "metadata": {},
   "outputs": [],
   "source": [
    "ans = set()\n",
    "\n",
    "while len(patterned_words) > 0:\n",
    "    to_del = []\n",
    "    cand = patterned_words[0]\n",
    "    cand_set = set()\n",
    "    cand_set.add(cand[0])\n",
    "    for i in range(len(patterned_words)):\n",
    "        if check_patterns(cand[1], patterned_words[i][1]):\n",
    "            to_del.append(i)\n",
    "            cand_set.add(patterned_words[i][0])\n",
    "\n",
    "    new_pw = [j for i, j in enumerate(patterned_words) if i not in to_del]\n",
    "    ans.add(frozenset(cand_set))\n",
    "    patterned_words = new_pw"
   ]
  },
  {
   "cell_type": "markdown",
   "id": "small-trader",
   "metadata": {},
   "source": [
    "Ну и напечатаем что получилось."
   ]
  },
  {
   "cell_type": "code",
   "execution_count": 24,
   "id": "promising-toyota",
   "metadata": {},
   "outputs": [
    {
     "name": "stdout",
     "output_type": "stream",
     "text": [
      "frozenset({'HESOYAM'})\n",
      "frozenset({'NNNNNNNNN', 'MMMM'})\n",
      "frozenset({'ABABABABAB', 'MNMNMNMN'})\n",
      "frozenset({'AEZAKMI'})\n",
      "frozenset({'PLOPLOPLOPLOPL', 'ASEASEASE'})\n"
     ]
    }
   ],
   "source": [
    "for x in ans:\n",
    "    print(x)"
   ]
  }
 ],
 "metadata": {
  "kernelspec": {
   "display_name": "Python 3",
   "language": "python",
   "name": "python3"
  },
  "language_info": {
   "codemirror_mode": {
    "name": "ipython",
    "version": 3
   },
   "file_extension": ".py",
   "mimetype": "text/x-python",
   "name": "python",
   "nbconvert_exporter": "python",
   "pygments_lexer": "ipython3",
   "version": "3.8.6"
  }
 },
 "nbformat": 4,
 "nbformat_minor": 5
}
